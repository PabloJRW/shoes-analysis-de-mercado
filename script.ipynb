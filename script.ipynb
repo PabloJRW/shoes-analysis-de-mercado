{
 "cells": [
  {
   "cell_type": "code",
   "execution_count": 1,
   "id": "00751ded-a377-4baa-a3b2-e9775b185fec",
   "metadata": {},
   "outputs": [],
   "source": [
    "import os\n",
    "import numpy as np\n",
    "import pandas as pd\n",
    "import datetime as dt"
   ]
  },
  {
   "cell_type": "code",
   "execution_count": 2,
   "id": "f311f235-af42-48c8-8027-549432fe6675",
   "metadata": {},
   "outputs": [],
   "source": [
    "FILE = os.path.join('dataset','shoes.csv')"
   ]
  },
  {
   "cell_type": "code",
   "execution_count": 3,
   "id": "4e5ac85e-c078-4eee-a937-22bbf74a31b6",
   "metadata": {},
   "outputs": [
    {
     "data": {
      "text/html": [
       "<div>\n",
       "<style scoped>\n",
       "    .dataframe tbody tr th:only-of-type {\n",
       "        vertical-align: middle;\n",
       "    }\n",
       "\n",
       "    .dataframe tbody tr th {\n",
       "        vertical-align: top;\n",
       "    }\n",
       "\n",
       "    .dataframe thead th {\n",
       "        text-align: right;\n",
       "    }\n",
       "</style>\n",
       "<table border=\"1\" class=\"dataframe\">\n",
       "  <thead>\n",
       "    <tr style=\"text-align: right;\">\n",
       "      <th></th>\n",
       "      <th>Order Date</th>\n",
       "      <th>Brand</th>\n",
       "      <th>Sneaker Name</th>\n",
       "      <th>Sale Price</th>\n",
       "      <th>Retail Price</th>\n",
       "      <th>Release Date</th>\n",
       "      <th>Shoe Size</th>\n",
       "      <th>Buyer Region</th>\n",
       "    </tr>\n",
       "  </thead>\n",
       "  <tbody>\n",
       "    <tr>\n",
       "      <th>0</th>\n",
       "      <td>9/1/17</td>\n",
       "      <td>Yeezy</td>\n",
       "      <td>Adidas-Yeezy-Boost-350-Low-V2-Beluga</td>\n",
       "      <td>$1,097</td>\n",
       "      <td>$220</td>\n",
       "      <td>9/24/16</td>\n",
       "      <td>11.0</td>\n",
       "      <td>California</td>\n",
       "    </tr>\n",
       "    <tr>\n",
       "      <th>1</th>\n",
       "      <td>9/1/17</td>\n",
       "      <td>Yeezy</td>\n",
       "      <td>Adidas-Yeezy-Boost-350-V2-Core-Black-Copper</td>\n",
       "      <td>$685</td>\n",
       "      <td>$220</td>\n",
       "      <td>11/23/16</td>\n",
       "      <td>11.0</td>\n",
       "      <td>California</td>\n",
       "    </tr>\n",
       "    <tr>\n",
       "      <th>2</th>\n",
       "      <td>9/1/17</td>\n",
       "      <td>Yeezy</td>\n",
       "      <td>Adidas-Yeezy-Boost-350-V2-Core-Black-Green</td>\n",
       "      <td>$690</td>\n",
       "      <td>$220</td>\n",
       "      <td>11/23/16</td>\n",
       "      <td>11.0</td>\n",
       "      <td>California</td>\n",
       "    </tr>\n",
       "    <tr>\n",
       "      <th>3</th>\n",
       "      <td>9/1/17</td>\n",
       "      <td>Yeezy</td>\n",
       "      <td>Adidas-Yeezy-Boost-350-V2-Core-Black-Red</td>\n",
       "      <td>$1,075</td>\n",
       "      <td>$220</td>\n",
       "      <td>11/23/16</td>\n",
       "      <td>11.5</td>\n",
       "      <td>Kentucky</td>\n",
       "    </tr>\n",
       "    <tr>\n",
       "      <th>4</th>\n",
       "      <td>9/1/17</td>\n",
       "      <td>Yeezy</td>\n",
       "      <td>Adidas-Yeezy-Boost-350-V2-Core-Black-Red-2017</td>\n",
       "      <td>$828</td>\n",
       "      <td>$220</td>\n",
       "      <td>2/11/17</td>\n",
       "      <td>11.0</td>\n",
       "      <td>Rhode Island</td>\n",
       "    </tr>\n",
       "    <tr>\n",
       "      <th>...</th>\n",
       "      <td>...</td>\n",
       "      <td>...</td>\n",
       "      <td>...</td>\n",
       "      <td>...</td>\n",
       "      <td>...</td>\n",
       "      <td>...</td>\n",
       "      <td>...</td>\n",
       "      <td>...</td>\n",
       "    </tr>\n",
       "    <tr>\n",
       "      <th>99951</th>\n",
       "      <td>2/13/19</td>\n",
       "      <td>Yeezy</td>\n",
       "      <td>adidas-Yeezy-Boost-350-V2-Static-Reflective</td>\n",
       "      <td>$565</td>\n",
       "      <td>$220</td>\n",
       "      <td>12/26/18</td>\n",
       "      <td>8.0</td>\n",
       "      <td>Oregon</td>\n",
       "    </tr>\n",
       "    <tr>\n",
       "      <th>99952</th>\n",
       "      <td>2/13/19</td>\n",
       "      <td>Yeezy</td>\n",
       "      <td>adidas-Yeezy-Boost-350-V2-Static-Reflective</td>\n",
       "      <td>$598</td>\n",
       "      <td>$220</td>\n",
       "      <td>12/26/18</td>\n",
       "      <td>8.5</td>\n",
       "      <td>California</td>\n",
       "    </tr>\n",
       "    <tr>\n",
       "      <th>99953</th>\n",
       "      <td>2/13/19</td>\n",
       "      <td>Yeezy</td>\n",
       "      <td>adidas-Yeezy-Boost-350-V2-Static-Reflective</td>\n",
       "      <td>$605</td>\n",
       "      <td>$220</td>\n",
       "      <td>12/26/18</td>\n",
       "      <td>5.5</td>\n",
       "      <td>New York</td>\n",
       "    </tr>\n",
       "    <tr>\n",
       "      <th>99954</th>\n",
       "      <td>2/13/19</td>\n",
       "      <td>Yeezy</td>\n",
       "      <td>adidas-Yeezy-Boost-350-V2-Static-Reflective</td>\n",
       "      <td>$650</td>\n",
       "      <td>$220</td>\n",
       "      <td>12/26/18</td>\n",
       "      <td>11.0</td>\n",
       "      <td>California</td>\n",
       "    </tr>\n",
       "    <tr>\n",
       "      <th>99955</th>\n",
       "      <td>2/13/19</td>\n",
       "      <td>Yeezy</td>\n",
       "      <td>adidas-Yeezy-Boost-350-V2-Static-Reflective</td>\n",
       "      <td>$640</td>\n",
       "      <td>$220</td>\n",
       "      <td>12/26/18</td>\n",
       "      <td>11.5</td>\n",
       "      <td>Texas</td>\n",
       "    </tr>\n",
       "  </tbody>\n",
       "</table>\n",
       "<p>99956 rows × 8 columns</p>\n",
       "</div>"
      ],
      "text/plain": [
       "      Order Date   Brand                                   Sneaker Name  \\\n",
       "0         9/1/17   Yeezy           Adidas-Yeezy-Boost-350-Low-V2-Beluga   \n",
       "1         9/1/17   Yeezy    Adidas-Yeezy-Boost-350-V2-Core-Black-Copper   \n",
       "2         9/1/17   Yeezy     Adidas-Yeezy-Boost-350-V2-Core-Black-Green   \n",
       "3         9/1/17   Yeezy       Adidas-Yeezy-Boost-350-V2-Core-Black-Red   \n",
       "4         9/1/17   Yeezy  Adidas-Yeezy-Boost-350-V2-Core-Black-Red-2017   \n",
       "...          ...     ...                                            ...   \n",
       "99951    2/13/19   Yeezy    adidas-Yeezy-Boost-350-V2-Static-Reflective   \n",
       "99952    2/13/19   Yeezy    adidas-Yeezy-Boost-350-V2-Static-Reflective   \n",
       "99953    2/13/19   Yeezy    adidas-Yeezy-Boost-350-V2-Static-Reflective   \n",
       "99954    2/13/19   Yeezy    adidas-Yeezy-Boost-350-V2-Static-Reflective   \n",
       "99955    2/13/19   Yeezy    adidas-Yeezy-Boost-350-V2-Static-Reflective   \n",
       "\n",
       "      Sale Price Retail Price Release Date  Shoe Size  Buyer Region  \n",
       "0         $1,097         $220      9/24/16       11.0    California  \n",
       "1           $685         $220     11/23/16       11.0    California  \n",
       "2           $690         $220     11/23/16       11.0    California  \n",
       "3         $1,075         $220     11/23/16       11.5      Kentucky  \n",
       "4           $828         $220      2/11/17       11.0  Rhode Island  \n",
       "...          ...          ...          ...        ...           ...  \n",
       "99951       $565         $220     12/26/18        8.0        Oregon  \n",
       "99952       $598         $220     12/26/18        8.5    California  \n",
       "99953       $605         $220     12/26/18        5.5      New York  \n",
       "99954       $650         $220     12/26/18       11.0    California  \n",
       "99955       $640         $220     12/26/18       11.5         Texas  \n",
       "\n",
       "[99956 rows x 8 columns]"
      ]
     },
     "execution_count": 3,
     "metadata": {},
     "output_type": "execute_result"
    }
   ],
   "source": [
    "df = pd.read_csv(FILE, index_col=False)\n",
    "df"
   ]
  },
  {
   "cell_type": "code",
   "execution_count": 4,
   "id": "f9f768a1-bc2e-487b-8969-3bc23d2d01dd",
   "metadata": {},
   "outputs": [
    {
     "name": "stdout",
     "output_type": "stream",
     "text": [
      "<class 'pandas.core.frame.DataFrame'>\n",
      "RangeIndex: 99956 entries, 0 to 99955\n",
      "Data columns (total 8 columns):\n",
      " #   Column        Non-Null Count  Dtype  \n",
      "---  ------        --------------  -----  \n",
      " 0   Order Date    99956 non-null  object \n",
      " 1   Brand         99956 non-null  object \n",
      " 2   Sneaker Name  99956 non-null  object \n",
      " 3   Sale Price    99956 non-null  object \n",
      " 4   Retail Price  99956 non-null  object \n",
      " 5   Release Date  99956 non-null  object \n",
      " 6   Shoe Size     99956 non-null  float64\n",
      " 7   Buyer Region  99956 non-null  object \n",
      "dtypes: float64(1), object(7)\n",
      "memory usage: 6.1+ MB\n"
     ]
    }
   ],
   "source": [
    "df.info()"
   ]
  },
  {
   "cell_type": "code",
   "execution_count": 5,
   "id": "d6431475-0738-4c58-8d6a-2e165bff65b6",
   "metadata": {},
   "outputs": [],
   "source": [
    "df['Order Date'] = pd.to_datetime(df['Order Date'], format=\"%m/%d/%y\")\n",
    "df['Release Date'] = pd.to_datetime(df['Release Date'], format=\"%m/%d/%y\")\n",
    "df['Sale Price'] = df['Sale Price'].str.replace('$','').str.replace(',','').astype(dtype='float')\n",
    "df['Retail Price'] = df['Retail Price'].str.replace('$','').str.replace(',','').astype(dtype='float')"
   ]
  },
  {
   "cell_type": "code",
   "execution_count": 6,
   "id": "10323ad0-66b6-4474-b1c8-c3ca6f004dae",
   "metadata": {},
   "outputs": [
    {
     "name": "stdout",
     "output_type": "stream",
     "text": [
      "<class 'pandas.core.frame.DataFrame'>\n",
      "RangeIndex: 99956 entries, 0 to 99955\n",
      "Data columns (total 8 columns):\n",
      " #   Column        Non-Null Count  Dtype         \n",
      "---  ------        --------------  -----         \n",
      " 0   Order Date    99956 non-null  datetime64[ns]\n",
      " 1   Brand         99956 non-null  object        \n",
      " 2   Sneaker Name  99956 non-null  object        \n",
      " 3   Sale Price    99956 non-null  float64       \n",
      " 4   Retail Price  99956 non-null  float64       \n",
      " 5   Release Date  99956 non-null  datetime64[ns]\n",
      " 6   Shoe Size     99956 non-null  float64       \n",
      " 7   Buyer Region  99956 non-null  object        \n",
      "dtypes: datetime64[ns](2), float64(3), object(3)\n",
      "memory usage: 6.1+ MB\n"
     ]
    }
   ],
   "source": [
    "df.info()"
   ]
  },
  {
   "cell_type": "code",
   "execution_count": 7,
   "id": "5c9ee403-a125-4f70-93e1-a22e871406c5",
   "metadata": {},
   "outputs": [
    {
     "data": {
      "text/plain": [
       "array(['adidas yeezy boost 350 low v2 beluga',\n",
       "       'adidas yeezy boost 350 v2 core black copper',\n",
       "       'adidas yeezy boost 350 v2 core black green',\n",
       "       'adidas yeezy boost 350 v2 core black red',\n",
       "       'adidas yeezy boost 350 v2 core black red 2017',\n",
       "       'adidas yeezy boost 350 v2 core black white',\n",
       "       'adidas yeezy boost 350 v2 cream white',\n",
       "       'adidas yeezy boost 350 v2 zebra',\n",
       "       'adidas yeezy boost 350 low moonrock', 'nike air max 90 off white',\n",
       "       'nike air presto off white', 'nike air vapormax off white',\n",
       "       'air jordan 1 retro high off white chicago',\n",
       "       'nike blazer mid off white',\n",
       "       'adidas yeezy boost 350 low pirate black 2016',\n",
       "       'adidas yeezy boost 350 low oxford tan',\n",
       "       'adidas yeezy boost 350 low turtledove',\n",
       "       'adidas yeezy boost 350 low pirate black 2015',\n",
       "       'adidas yeezy boost 350 v2 semi frozen yellow',\n",
       "       'nike air force 1 low off white', 'nike air max 97 off white',\n",
       "       'nike air force 1 low virgil abloh off white af100',\n",
       "       'nike react hyperdunk 2017 flyknit off white',\n",
       "       'nike zoom fly off white', 'adidas yeezy boost 350 v2 beluga 2pt0',\n",
       "       'adidas yeezy boost 350 v2 blue tint',\n",
       "       'nike air vapormax off white 2018',\n",
       "       'air jordan 1 retro high off white white',\n",
       "       'nike air vapormax off white black',\n",
       "       'air jordan 1 retro high off white university blue',\n",
       "       'nike air presto off white black 2018',\n",
       "       'nike air presto off white white 2018',\n",
       "       'nike zoom fly mercurial off white black',\n",
       "       'nike zoom fly mercurial off white total orange',\n",
       "       'adidas yeezy boost 350 v2 butter',\n",
       "       'nike air max 97 off white elemental rose queen',\n",
       "       'nike blazer mid off white all hallows eve',\n",
       "       'nike blazer mid off white grim reaper',\n",
       "       'adidas yeezy boost 350 v2 sesame',\n",
       "       'nike blazer mid off white wolf grey',\n",
       "       'nike air max 97 off white menta',\n",
       "       'nike air max 97 off white black',\n",
       "       'nike zoom fly off white black silver',\n",
       "       'nike zoom fly off white pink',\n",
       "       'nike air force 1 low off white volt',\n",
       "       'nike air force 1 low off white black white',\n",
       "       'adidas yeezy boost 350 v2 static',\n",
       "       'adidas yeezy boost 350 v2 static reflective',\n",
       "       'nike air max 90 off white black',\n",
       "       'nike air max 90 off white desert ore'], dtype=object)"
      ]
     },
     "execution_count": 7,
     "metadata": {},
     "output_type": "execute_result"
    }
   ],
   "source": [
    "df['Sneaker Name'] = df['Sneaker Name'].str.lower().str.replace('-',' ')\n",
    "df['Sneaker Name'].unique()"
   ]
  },
  {
   "cell_type": "code",
   "execution_count": 8,
   "id": "d4a7e06a-7990-45c5-8879-622c36e23753",
   "metadata": {},
   "outputs": [],
   "source": [
    "def extraer_marca(df, lista_de_marcas):\n",
    "    \"\"\"\n",
    "        Esta función busca una marca específica dentro de un valor de columna y devuelve esa marca\n",
    "        si se encuentra en la lista de marcas proporcionadas.\n",
    "\n",
    "        Parámetros:\n",
    "        - columna: El valor de la columna donde se buscará la marca.\n",
    "        - lista_de_marcas: Una lista de marcas que se buscarán en la columna.\n",
    "\n",
    "        Retorna:\n",
    "        - La marca encontrada en la lista_de_marcas si se encuentra en la columna. Si ninguna marca\n",
    "        es encontrada devuelve \"nike\".\n",
    "    \"\"\"\n",
    "    \n",
    "    # Itera sobre cada marca en la lista de marcas proporcionada\n",
    "    for marca in lista_de_marcas:\n",
    "        if marca in df:\n",
    "            return marca\n",
    "    \n",
    "    return \"nike\"\n",
    "\n",
    "lista_de_marcas = ['nike', 'adidas']\n",
    "df['Marca'] = df['Sneaker Name'].str.lower().apply(extraer_marca, lista_de_marcas=lista_de_marcas)"
   ]
  },
  {
   "cell_type": "code",
   "execution_count": 9,
   "id": "3c1e3a93-7b2b-46df-b0f8-082de22037a1",
   "metadata": {},
   "outputs": [
    {
     "data": {
      "text/plain": [
       "True"
      ]
     },
     "execution_count": 9,
     "metadata": {},
     "output_type": "execute_result"
    }
   ],
   "source": [
    "# Zapatillas Nike\n",
    "nike = df[df['Marca']=='nike']\n",
    "#Verificando si todas las zapatillas Nike son versión Off-White\n",
    "nike['Sneaker Name'].str.contains('off white').all()"
   ]
  },
  {
   "cell_type": "code",
   "execution_count": 10,
   "id": "763e4f81-687a-4798-aab1-058b3ec62417",
   "metadata": {},
   "outputs": [
    {
     "data": {
      "text/plain": [
       "array(['adidas yeezy boost 350 low v2 beluga',\n",
       "       'adidas yeezy boost 350 v2 core black copper',\n",
       "       'adidas yeezy boost 350 v2 core black green',\n",
       "       'adidas yeezy boost 350 v2 core black red',\n",
       "       'adidas yeezy boost 350 v2 core black red 2017',\n",
       "       'adidas yeezy boost 350 v2 core black white',\n",
       "       'adidas yeezy boost 350 v2 cream white',\n",
       "       'adidas yeezy boost 350 v2 zebra',\n",
       "       'adidas yeezy boost 350 low moonrock',\n",
       "       'adidas yeezy boost 350 low pirate black 2016',\n",
       "       'adidas yeezy boost 350 low oxford tan',\n",
       "       'adidas yeezy boost 350 low turtledove',\n",
       "       'adidas yeezy boost 350 low pirate black 2015',\n",
       "       'adidas yeezy boost 350 v2 semi frozen yellow',\n",
       "       'adidas yeezy boost 350 v2 beluga 2pt0',\n",
       "       'adidas yeezy boost 350 v2 blue tint',\n",
       "       'adidas yeezy boost 350 v2 butter',\n",
       "       'adidas yeezy boost 350 v2 sesame',\n",
       "       'adidas yeezy boost 350 v2 static',\n",
       "       'adidas yeezy boost 350 v2 static reflective'], dtype=object)"
      ]
     },
     "execution_count": 10,
     "metadata": {},
     "output_type": "execute_result"
    }
   ],
   "source": [
    "adidas = df[df['Marca']=='adidas']\n",
    "adidas['Sneaker Name'].unique()"
   ]
  },
  {
   "cell_type": "code",
   "execution_count": 11,
   "id": "fd6853ab-86a5-4821-9830-7707724c8a14",
   "metadata": {},
   "outputs": [],
   "source": [
    "lista_de_modelos = [\"air force 1\", \"zoom fly\", \"zoom fly mercurial\", \"air max 97\", \n",
    "                    \"air max 90\", \"yeezy boost 350 v2 low\", \"blazer mid\", \"air presto\",\n",
    "                   \"air vapormax\", \"air jordan retro 1 high\", \"air jordan retro 1 low\"]"
   ]
  },
  {
   "cell_type": "code",
   "execution_count": 12,
   "id": "0258778f-c1f2-4fdf-bb13-fe4690ae908f",
   "metadata": {},
   "outputs": [],
   "source": [
    "def extraer_modelo(df, lista_de_modelos):\n",
    "        \"\"\"\n",
    "        Esta función busca un modelo específico dentro de un valor de columna y devuelve\n",
    "        ese modelo si se encuentra en la listas de modelos proporcionada.\n",
    "\n",
    "        Parámetros:\n",
    "        - columna: El valor de la columna donde se buscará el modelo.\n",
    "        - lista_de_modelos: Una lista de modelos que se buscarán en la columna.\n",
    "\n",
    "        Retorna:\n",
    "        - El modelo encontrado en la lista_de_modelos si se encuentra en la columna. Si ningun valor\n",
    "        es encontrado, devuelve el mismo valor. \n",
    "    \"\"\"\n",
    "\n",
    "    # Itera sobre cada modelo en lista de modelos proporcionada\n",
    "    for modelo in lista_de_modelos:\n",
    "        df = df.apply(lambda x: modelo if modelo in x else x)\n",
    "\n",
    "    return df\n",
    "\n",
    "# Ejemplo de uso\n",
    "lista_de_modelos = [\"yeezy boost 350 v2\", \"air force 1\", \"zoom fly\", \"zoom fly mercurial\", \"air max 97\", \n",
    "                    \"air max 90\", \"blazer mid\", \"air presto\", \"yeezy boost 350 low\", \"air vapormax\", \n",
    "                    \"air jordan 1 retro\", \"air jordan retro 1\", \"react hyperdunk\"]\n",
    "\n",
    "\n",
    "df['Modelo'] = extraer_modelo(df['Sneaker Name'], lista_de_modelos)\n"
   ]
  },
  {
   "cell_type": "code",
   "execution_count": 13,
   "id": "c03084ff-9666-43c6-92c7-dc5298222634",
   "metadata": {},
   "outputs": [
    {
     "name": "stdout",
     "output_type": "stream",
     "text": [
      "yeezy boost 350 low\n",
      "yeezy boost 350 v2\n",
      "air max 90\n",
      "air presto\n",
      "air vapormax\n",
      "air jordan 1 retro\n",
      "blazer mid\n",
      "air force 1\n",
      "air max 97\n",
      "react hyperdunk\n",
      "zoom fly\n"
     ]
    }
   ],
   "source": [
    "for x in df['Modelo'].unique():\n",
    "    print(x)"
   ]
  },
  {
   "cell_type": "code",
   "execution_count": null,
   "id": "5e0fd986-c58a-4282-b7c9-337c02f07585",
   "metadata": {},
   "outputs": [],
   "source": []
  }
 ],
 "metadata": {
  "kernelspec": {
   "display_name": "Python 3 (ipykernel)",
   "language": "python",
   "name": "python3"
  },
  "language_info": {
   "codemirror_mode": {
    "name": "ipython",
    "version": 3
   },
   "file_extension": ".py",
   "mimetype": "text/x-python",
   "name": "python",
   "nbconvert_exporter": "python",
   "pygments_lexer": "ipython3",
   "version": "3.10.11"
  }
 },
 "nbformat": 4,
 "nbformat_minor": 5
}
